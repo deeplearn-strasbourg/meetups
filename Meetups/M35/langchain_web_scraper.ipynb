{
 "cells": [
  {
   "cell_type": "markdown",
   "id": "8e4d1b46-572c-4865-bca5-f2248775bd3f",
   "metadata": {},
   "source": [
    "# Example of langchain agents\n",
    "\n",
    "in this notebook we test the agent functionality of Langchain:  A way to give an LLM different tools, for example:\n",
    "- access to a vector store\n",
    "- access to external APIs\n",
    "- ability to browse websites"
   ]
  },
  {
   "cell_type": "code",
   "execution_count": 2,
   "id": "55119fb1-f10f-4b2a-98bd-8665863fa4ba",
   "metadata": {},
   "outputs": [],
   "source": [
    "!pip install -r requirements.txt"
   ]
  },
  {
   "cell_type": "markdown",
   "id": "5d35120e",
   "metadata": {},
   "source": [
    "Need to add the api keys using the %env command\n"
   ]
  },
  {
   "cell_type": "markdown",
   "id": "66783a0e-88b3-41b3-8991-90f533c24211",
   "metadata": {},
   "source": [
    "We need to install playwright on the system. Playwright is a framework for web testing and automation. In our case it will be used for automation to browse websites using a headless chromium browser."
   ]
  },
  {
   "cell_type": "code",
   "execution_count": 7,
   "id": "7d0a88b5-a910-4eef-9dcb-eed0fb6fea56",
   "metadata": {
    "scrolled": true
   },
   "outputs": [],
   "source": [
    "!playwright install"
   ]
  },
  {
   "cell_type": "markdown",
   "id": "69f2d439-2238-4f97-8f86-06c712469360",
   "metadata": {},
   "source": [
    "The `load()` function of AsyncChromiumLoader in langchain needs this nest asyncio to be enabled because we are using a jupyter notebook (nested events loop)"
   ]
  },
  {
   "cell_type": "code",
   "execution_count": 8,
   "id": "c68f8358-ea0e-41cb-b44e-319858b76599",
   "metadata": {},
   "outputs": [],
   "source": [
    "import nest_asyncio\n",
    "nest_asyncio.apply()"
   ]
  },
  {
   "cell_type": "markdown",
   "id": "b61cf49d-b9e0-4f9a-8212-64886dde60e1",
   "metadata": {},
   "source": [
    "## Using langchain's premade tools \n",
    "Langchain has a set of document loaders: \n",
    "- html\n",
    "- csv\n",
    "- document folder\n",
    "- pdf\n",
    "- markdown\n",
    "\n",
    "We can use one of the html loader which is an instance of a headless chrome browser\n",
    "\n",
    "We also use a document_transformer from Langchain. These are different tools for different filetypes with useful methods for each. In our case we will be using it to extract data from web pages so we use the BeautifulSoupTransformer"
   ]
  },
  {
   "cell_type": "code",
   "execution_count": 12,
   "id": "1af3bc01-9304-498e-9fea-f8787d96ad92",
   "metadata": {},
   "outputs": [],
   "source": [
    "from langchain.document_loaders import AsyncChromiumLoader\n",
    "from langchain.document_transformers import BeautifulSoupTransformer\n",
    "import asyncio"
   ]
  },
  {
   "cell_type": "markdown",
   "id": "a4856348-cdf4-40f7-874a-c554f708f897",
   "metadata": {},
   "source": [
    "## Test loading the contents of a page"
   ]
  },
  {
   "cell_type": "code",
   "execution_count": 25,
   "id": "349d17af-ff8b-4194-bdbb-ead21593eec1",
   "metadata": {},
   "outputs": [],
   "source": [
    "loader = AsyncChromiumLoader([\"https://www.wsj.com\"])\n",
    "\n",
    "html = loader.load()"
   ]
  },
  {
   "cell_type": "markdown",
   "id": "13112722-7cd1-4138-abfb-2b7f870d7e6f",
   "metadata": {},
   "source": [
    "## Transform html to text"
   ]
  },
  {
   "cell_type": "code",
   "execution_count": 20,
   "id": "6c1d1298-7db0-4c08-ab10-6944d063acb0",
   "metadata": {},
   "outputs": [
    {
     "data": {
      "text/plain": [
       "\"Skip to Main ContentSkip to SearchSkip to... Select * Top News * The Future of\\nEverything * Featured Stories * Science * Longevity & Retirement * Food &\\nCooking * Arts & Entertainment * Video * Economy * Real Estate * Sports * CMO\\n* CIO * CFO * Risk & Compliance * Logistics Report * Sustainable Business *\\nHeard on the Street * Barron’s * MarketWatch * Mansion Global * Penta *\\nOpinion * Journal Reports * Sponsored Offers Explore Our Brands * WSJ * * * *\\n* Barron's * * * * * MarketWatch * * * * * IBD # The Wall Street Journal\\nSubscribeSign In Intro Offer The Wall Street Journal Save on a WSJ Membership\\nGain Trusted Insights on 2023’s Biggest Stories Become a WSJ Member Today\\nSubscribe Now English Edition * English * 中文 (Chinese) * 日本語 (Japanese) Print\\nEdition Video Audio Latest Headlines More Other Products from WSJ * Buy Side\\nfrom WSJ * WSJ Shop * WSJ Wine # SubscribeSign In * World #### Topics * Africa\\n* Americas * Asia * China * Europe * Middle East * India * Oceania * Russia *\\nU.K. #\""
      ]
     },
     "execution_count": 20,
     "metadata": {},
     "output_type": "execute_result"
    }
   ],
   "source": [
    "from langchain.document_transformers import Html2TextTransformer\n",
    "\n",
    "html2text = Html2TextTransformer()\n",
    "docs_transformed = html2text.transform_documents(html)\n",
    "docs_transformed[0].page_content[0:1000]"
   ]
  },
  {
   "cell_type": "markdown",
   "id": "4d2cf9ed-3ceb-458d-bb1b-0dbc98b069c5",
   "metadata": {},
   "source": [
    "## Extract content from the web page"
   ]
  },
  {
   "cell_type": "markdown",
   "id": "6a261e68-8157-486c-936e-c268f60d3725",
   "metadata": {},
   "source": [
    "## Init the language model\n",
    "\n",
    "using turbo-0613 we make sure the model invokes openai functions: after describing a desired schema output the model will output json in that format. The naming and properties are used to instruct the model"
   ]
  },
  {
   "cell_type": "code",
   "execution_count": 38,
   "id": "2e3538d0-bcd9-460c-977f-436753e67f04",
   "metadata": {},
   "outputs": [],
   "source": [
    "from langchain.chat_models import ChatOpenAI\n",
    "\n",
    "llm = ChatOpenAI(temperature=0, model=\"gpt-3.5-turbo-0613\")"
   ]
  },
  {
   "cell_type": "markdown",
   "id": "b3414755-7690-44b3-9897-640df603ee36",
   "metadata": {},
   "source": [
    "## Create an extraction chain "
   ]
  },
  {
   "cell_type": "code",
   "execution_count": 45,
   "id": "14d819df-b3e8-449e-91c2-85ac53e231f3",
   "metadata": {},
   "outputs": [],
   "source": [
    "from langchain.chains import create_extraction_chain\n",
    "\n",
    "schema = {\n",
    "    \"properties\": {\n",
    "        \"news_article_title\": {\"type\": \"string\"},\n",
    "        \"news_article_summary\": {\"type\": \"string\"},\n",
    "    },\n",
    "    \"required\": [\"news_article_title\", \"news_article_summary\"],\n",
    "}\n",
    "\n",
    "\n",
    "def extract(content: str, schema: dict):\n",
    "    return create_extraction_chain(schema=schema, llm=llm).run(content)\n",
    "\n"
   ]
  },
  {
   "cell_type": "markdown",
   "id": "0d83ad76-ecc0-4800-86de-065a7a9594a1",
   "metadata": {},
   "source": [
    "## Scrape and extract\n",
    "This function puts together the scraping aspect done with playwright and the extraction done with the language model.\n",
    "It chunks the extracted text and feeds it to the language model to extract the desired data from the page.\n",
    "If the schema contains things that aren't easy it will hallucinate"
   ]
  },
  {
   "cell_type": "code",
   "execution_count": 110,
   "id": "d003d6df-ebd1-4824-beeb-c7e7a08c0abe",
   "metadata": {},
   "outputs": [],
   "source": [
    "import pprint\n",
    "from langchain.text_splitter import RecursiveCharacterTextSplitter\n",
    "\n",
    "\n",
    "def scrape_with_playwright(urls, schema, tags_to_extract=[\"span\"]):\n",
    "    \"\"\"scrapes the urls in a provided list of urls, using a schema with properties each with their \n",
    "    type and required properties\"\"\"\n",
    "    loader = AsyncChromiumLoader(urls)\n",
    "    docs = loader.load()\n",
    "    bs_transformer = BeautifulSoupTransformer()\n",
    "    docs_transformed = bs_transformer.transform_documents(\n",
    "        docs, tags_to_extract=tags_to_extract\n",
    "    )\n",
    "    print(\"Extracting content with LLM\")\n",
    "\n",
    "    # Grab the first 1000 tokens of the site\n",
    "    splitter = RecursiveCharacterTextSplitter.from_tiktoken_encoder(\n",
    "        chunk_size=1000, chunk_overlap=0\n",
    "    )\n",
    "    splits = splitter.split_documents(docs_transformed)\n",
    "\n",
    "    # Process the first split\n",
    "    extracted_content = extract(schema=schema, content=splits[0].page_content)\n",
    "    pprint.pprint(extracted_content)\n",
    "    return extracted_content"
   ]
  },
  {
   "cell_type": "code",
   "execution_count": 121,
   "id": "d8e0ec67-85fa-4bf7-b37d-eb27186f42b4",
   "metadata": {},
   "outputs": [
    {
     "name": "stdout",
     "output_type": "stream",
     "text": [
      "Extracting content with LLM\n"
     ]
    },
    {
     "ename": "IndexError",
     "evalue": "list index out of range",
     "output_type": "error",
     "traceback": [
      "\u001b[0;31m---------------------------------------------------------------------------\u001b[0m",
      "\u001b[0;31mIndexError\u001b[0m                                Traceback (most recent call last)",
      "Cell \u001b[0;32mIn[121], line 9\u001b[0m\n\u001b[1;32m      1\u001b[0m urls \u001b[38;5;241m=\u001b[39m [\u001b[38;5;124m\"\u001b[39m\u001b[38;5;124mhttps://www.thefork.com/restaurants/strasbourg-c529135/pizzeria-t896\u001b[39m\u001b[38;5;124m\"\u001b[39m]\n\u001b[1;32m      2\u001b[0m schema_res \u001b[38;5;241m=\u001b[39m {\n\u001b[1;32m      3\u001b[0m     \u001b[38;5;124m\"\u001b[39m\u001b[38;5;124mproperties\u001b[39m\u001b[38;5;124m\"\u001b[39m: {\n\u001b[1;32m      4\u001b[0m         \u001b[38;5;124m\"\u001b[39m\u001b[38;5;124mrestaurant_name\u001b[39m\u001b[38;5;124m\"\u001b[39m: {\u001b[38;5;124m\"\u001b[39m\u001b[38;5;124mtype\u001b[39m\u001b[38;5;124m\"\u001b[39m: \u001b[38;5;124m\"\u001b[39m\u001b[38;5;124mstring\u001b[39m\u001b[38;5;124m\"\u001b[39m},\n\u001b[0;32m   (...)\u001b[0m\n\u001b[1;32m      7\u001b[0m     \u001b[38;5;124m\"\u001b[39m\u001b[38;5;124mrequired\u001b[39m\u001b[38;5;124m\"\u001b[39m: [\u001b[38;5;124m\"\u001b[39m\u001b[38;5;124mrestaurant_name\u001b[39m\u001b[38;5;124m\"\u001b[39m, \u001b[38;5;124m\"\u001b[39m\u001b[38;5;124mrestaurant_address\u001b[39m\u001b[38;5;124m\"\u001b[39m]\n\u001b[1;32m      8\u001b[0m }\n\u001b[0;32m----> 9\u001b[0m extracted_content_res \u001b[38;5;241m=\u001b[39m \u001b[43mscrape_with_playwright\u001b[49m\u001b[43m(\u001b[49m\u001b[43murls\u001b[49m\u001b[43m,\u001b[49m\u001b[43m \u001b[49m\u001b[43mschema\u001b[49m\u001b[38;5;241;43m=\u001b[39;49m\u001b[43mschema_res\u001b[49m\u001b[43m,\u001b[49m\u001b[43m \u001b[49m\u001b[43mtags_to_extract\u001b[49m\u001b[38;5;241;43m=\u001b[39;49m\u001b[43m[\u001b[49m\u001b[38;5;124;43m\"\u001b[39;49m\u001b[38;5;124;43mp\u001b[39;49m\u001b[38;5;124;43m\"\u001b[39;49m\u001b[43m,\u001b[49m\u001b[43m \u001b[49m\u001b[38;5;124;43m\"\u001b[39;49m\u001b[38;5;124;43mh2\u001b[39;49m\u001b[38;5;124;43m\"\u001b[39;49m\u001b[43m]\u001b[49m\u001b[43m)\u001b[49m\n",
      "Cell \u001b[0;32mIn[110], line 23\u001b[0m, in \u001b[0;36mscrape_with_playwright\u001b[0;34m(urls, schema, tags_to_extract)\u001b[0m\n\u001b[1;32m     20\u001b[0m splits \u001b[38;5;241m=\u001b[39m splitter\u001b[38;5;241m.\u001b[39msplit_documents(docs_transformed)\n\u001b[1;32m     22\u001b[0m \u001b[38;5;66;03m# Process the first split\u001b[39;00m\n\u001b[0;32m---> 23\u001b[0m extracted_content \u001b[38;5;241m=\u001b[39m extract(schema\u001b[38;5;241m=\u001b[39mschema, content\u001b[38;5;241m=\u001b[39m\u001b[43msplits\u001b[49m\u001b[43m[\u001b[49m\u001b[38;5;241;43m0\u001b[39;49m\u001b[43m]\u001b[49m\u001b[38;5;241m.\u001b[39mpage_content)\n\u001b[1;32m     24\u001b[0m pprint\u001b[38;5;241m.\u001b[39mpprint(extracted_content)\n\u001b[1;32m     25\u001b[0m \u001b[38;5;28;01mreturn\u001b[39;00m extracted_content\n",
      "\u001b[0;31mIndexError\u001b[0m: list index out of range"
     ]
    }
   ],
   "source": [
    "urls = [\"https://www.thefork.com/restaurants/strasbourg-c529135/pizzeria-t896\"]\n",
    "schema_res = {\n",
    "    \"properties\": {\n",
    "        \"restaurant_name\": {\"type\": \"string\"},\n",
    "        \"restaurant_address\": {\"type\": \"string\"},\n",
    "    },\n",
    "    \"required\": [\"restaurant_name\", \"restaurant_address\"]\n",
    "}\n",
    "extracted_content_res = scrape_with_playwright(urls, schema=schema_res, tags_to_extract=[\"p\", \"h2\"])"
   ]
  },
  {
   "cell_type": "code",
   "execution_count": null,
   "id": "4927dae7-6961-4ea6-b874-676e2a5dd1ba",
   "metadata": {},
   "outputs": [],
   "source": []
  },
  {
   "cell_type": "code",
   "execution_count": 118,
   "id": "9e04439c-4dd8-488d-a098-cda2f8aaf94c",
   "metadata": {},
   "outputs": [
    {
     "name": "stdout",
     "output_type": "stream",
     "text": [
      "Extracting content with LLM\n",
      "[{'news_article_link': 'https://www.wsj.com/articles/will-joe-manchin-run-for-president-democrats-fear-a-disaster-11638912000',\n",
      "  'news_article_summary': 'The centrist’s decision to not pursue Senate '\n",
      "                          're-election stirs speculation of a presidential bid '\n",
      "                          'as groups like No Labels seek alternatives to Biden '\n",
      "                          'and Trump.',\n",
      "  'news_article_title': 'Will Joe Manchin Run for President? Democrats Fear a '\n",
      "                        'Disaster.'},\n",
      " {'news_article_link': 'https://www.wsj.com/articles/how-democrats-are-leveraging-abortion-rights-to-win-in-2024-11638912001',\n",
      "  'news_article_summary': 'The push to get abortion protections on the ballot '\n",
      "                          'promises to galvanize voters and affect races for '\n",
      "                          'the White House and control of Congress.',\n",
      "  'news_article_title': 'How Democrats Are Leveraging Abortion Rights to Win '\n",
      "                        'in 2024'},\n",
      " {'news_article_link': 'https://www.wsj.com/articles/fbi-seized-new-york-mayor-eric-adams-electronic-devices-11638912002',\n",
      "  'news_article_summary': 'The move escalates a public corruption '\n",
      "                          'investigation into his political campaign, '\n",
      "                          'according to people familiar with the matter.',\n",
      "  'news_article_title': 'FBI Seized New York Mayor Eric Adams’s Electronic '\n",
      "                        'Devices'},\n",
      " {'news_article_link': 'https://www.wsj.com/articles/india-china-fight-for-influence-over-tiny-archipelago-nation-11638912003',\n",
      "  'news_article_summary': 'The fierce rivalry between the Asian powers is on '\n",
      "                          'display in the Maldives, better known for its white '\n",
      "                          'sand beaches and crystal clear waters than as a '\n",
      "                          'strategic military outpost.',\n",
      "  'news_article_title': 'India, China Fight for Influence Over Tiny '\n",
      "                        'Archipelago Nation'},\n",
      " {'news_article_link': 'https://www.wsj.com/articles/as-chinese-tastes-change-farmers-everywhere-rip-up-and-replant-11638912004',\n",
      "  'news_article_summary': 'The windfall is transforming entire regions, but '\n",
      "                          'some are starting to worry: What if China stops '\n",
      "                          'buying?',\n",
      "  'news_article_title': 'As Chinese Tastes Change, Farmers Everywhere Rip Up '\n",
      "                        'and Replant'},\n",
      " {'news_article_link': 'https://www.wsj.com/articles/how-risky-is-private-credit-analysts-piece-together-clues-11638912005',\n",
      "  'news_article_summary': 'A boom in private credit has been moving a huge '\n",
      "                          'portion of corporate borrowing away from public '\n",
      "                          'view, into the more opaque realm of private funds.',\n",
      "  'news_article_title': 'How Risky Is Private Credit? Analysts Piece Together '\n",
      "                        'Clues'},\n",
      " {'news_article_link': 'https://www.wsj.com/articles/a-foreign-student-saved-his-friends-from-hamas-then-he-vanished-11638912006',\n",
      "  'news_article_summary': 'Newly arrived from Nepal, Bipin Joshi suddenly '\n",
      "                          'found himself in a war zone. He threw a grenade out '\n",
      "                          'of harm’s way. His country is desperate to get him '\n",
      "                          'back.',\n",
      "  'news_article_title': 'A Foreign Student Saved His Friends From Hamas. Then '\n",
      "                        'He Vanished.'},\n",
      " {'news_article_link': 'https://www.wsj.com/articles/five-economic-signs-youre-smart-to-procrastinate-on-holiday-shopping-11638912007',\n",
      "  'news_article_summary': 'Data from consumers, retailers and railroads signal '\n",
      "                          'weaker holiday shopping than recent years. Expect '\n",
      "                          'discounts on days like Black Friday, Cyber Monday '\n",
      "                          'and the weekend before Christmas.',\n",
      "  'news_article_title': \"Five Economic Signs You're Smart to Procrastinate on \"\n",
      "                        'Holiday Shopping'},\n",
      " {'news_article_link': 'https://www.wsj.com/articles/harbaugh-is-out-and-its-michigan-vs-everybody-11638912008',\n",
      "  'news_article_summary': 'The Big Ten suspended the Wolverines head coach for '\n",
      "                          'the final three regular-season games, including '\n",
      "                          'Ohio State, and the drama is far from over.',\n",
      "  'news_article_title': 'Harbaugh Is Out and It’s Michigan vs. Everybody'},\n",
      " {'news_article_link': 'https://www.wsj.com/articles/beyonce-and-jay-z-are-clients-so-too-larry-ellison-how-a-superbroker-operates-11638912009',\n",
      "  'news_article_summary': 'Kurt Rappaport is at the pinnacle of a gilded world '\n",
      "                          'of superbrokers, featured in reality TV shows like '\n",
      "                          \"'Selling Sunset' and 'Million Dollar Listing.' Now \"\n",
      "                          'a landmark court verdict threatens to upend the '\n",
      "                          'business.',\n",
      "  'news_article_title': 'Beyoncé and Jay-Z Are Clients, So Too Larry Ellison: '\n",
      "                        'How a Superbroker Operates'},\n",
      " {'news_article_link': 'https://www.wsj.com/articles/is-anything-still-true-on-the-internet-no-one-knows-anymore-11638912010',\n",
      "  'news_article_summary': 'New tools can create fake videos and clone the '\n",
      "                          'voices of those closest to us. “This is how '\n",
      "                          'authoritarianism arises.”',\n",
      "  'news_article_title': 'Is Anything Still True? On the Internet, No One Knows '\n",
      "                        'Anymore'},\n",
      " {'news_article_link': 'https://www.wsj.com/articles/choosing-glasses-is-the-most-important-style-decision-youll-make-all-year-dont-mess-it-up-11638912011',\n",
      "  'news_article_summary': 'essay',\n",
      "  'news_article_title': 'Choosing Glasses Is the Most Important Style Decision '\n",
      "                        'You’ll Make All Year. Don’t Mess It Up.'},\n",
      " {'news_article_link': 'https://www.wsj.com/articles/why-are-we-so-obsessed-with-sam-bankman-frieds-parents-11638912012',\n",
      "  'news_article_summary': 'essay',\n",
      "  'news_article_title': 'Why Are We So Obsessed With Sam Bankman-Fried’s '\n",
      "                        'Parents?'},\n",
      " {'news_article_link': 'https://www.wsj.com/articles/rare-racer-runs-again-under-actresss-direction-11638912013',\n",
      "  'news_article_summary': 'essay',\n",
      "  'news_article_title': 'Rare Racer Runs Again Under Actress’s Direction'},\n",
      " {'news_article_link': 'https://www.wsj.com/articles/the-2-million-coal-mine-that-might-hold-a-37-billion-treasure-11638912014',\n",
      "  'news_article_summary': 'A discovery outside Sheridan, Wyo., could be '\n",
      "                          'America’s first new source of rare-earth elements '\n",
      "                          'since 1952.',\n",
      "  'news_article_title': 'The $2 Million Coal Mine That Might Hold a $37 '\n",
      "                        'Billion Treasure'},\n",
      " {'news_article_link': 'https://www.wsj.com/articles/the-sleep-habit-thats-more-important-than-getting-8-hours-11638912015',\n",
      "  'news_article_summary': 'New science uncovers the sleep practices that '\n",
      "                          'matter for a longer life.',\n",
      "  'news_article_title': 'The Sleep Habit That’s More Important Than Getting 8 '\n",
      "                        'Hours'},\n",
      " {'news_article_link': 'https://www.wsj.com/articles/right-now-is-a-bad-time-to-spend-money-11638912016',\n",
      "  'news_article_summary': 'Prices remain high for much of what we buy, even as '\n",
      "                          'inflation has slowed. Stingily saving money, '\n",
      "                          'meanwhile, is a more profitable activity than it '\n",
      "                          'has been in recent memory.',\n",
      "  'news_article_title': 'Right Now Is a Bad Time to Spend Money'}]\n"
     ]
    }
   ],
   "source": [
    "urls = [\"https://www.wsj.com\"]\n",
    "extracted_content = scrape_with_playwright(urls, schema=schema)"
   ]
  },
  {
   "cell_type": "code",
   "execution_count": 91,
   "id": "0d286276-3bbc-4f9c-a42d-0d05b2954fbe",
   "metadata": {},
   "outputs": [
    {
     "name": "stdout",
     "output_type": "stream",
     "text": [
      "Extracting content with LLM\n",
      "[{'recipe_description': 'Plat alsacien traditionnel à base de viandes et de '\n",
      "                        'pommes de terre',\n",
      "  'recipe_ingredients': \"650 g d'épaule d'agneau désossée\\n\"\n",
      "                        \"650 g d'échine de porc désossée\\n\"\n",
      "                        '650 g de paleron de bœuf\\n'\n",
      "                        '2 kg de pommes de terre à chair ferme\\n'\n",
      "                        \"1 kg d'oignons\\n\"\n",
      "                        '1 blanc de poireau\\n'\n",
      "                        '1 carotte\\n'\n",
      "                        \"1 gousse d'ail\\n\"\n",
      "                        '1 échalote\\n'\n",
      "                        '1/2 branche de céleri\\n'\n",
      "                        '2 brins de thym\\n'\n",
      "                        '1 feuille de laurier\\n'\n",
      "                        '5 baies de genièvre écrasées\\n'\n",
      "                        \"1 bouteille de vin blanc d'Alsace\\n\"\n",
      "                        '200 g de farine\\n'\n",
      "                        'sel\\n'\n",
      "                        'poivre en grains et moulu',\n",
      "  'recipe_name': \"Baeckeoffe d'Alsace\"}]\n"
     ]
    }
   ],
   "source": [
    "schema_recipe = {\n",
    "    \"properties\": {\n",
    "        \"recipe_name\": {\"type\": \"string\"},\n",
    "        \"recipe_description\": {\"type\": \"string\"},\n",
    "        \"recipe_ingredients\":{\"type\":\"string\"},\n",
    "    },\n",
    "    \"required\": [\"recipe_title\", \"recipe_description\", \"recipe_ingredients\"],\n",
    "}\n",
    "\n",
    "urls_recipes = [\"https://www.marieclaire.fr/cuisine/baeckeofe-d-adrienne,1191975.asp\"]\n",
    "extracted_content = scrape_with_playwright(urls_recipes, schema=schema_recipe, tags_to_extract=[\"span\", \"li\", \"p\", \"div\", \"h1\", \"h2\", \"h3\"])"
   ]
  },
  {
   "cell_type": "markdown",
   "id": "a4949d40-ab26-43af-b21e-9f299dc5f10a",
   "metadata": {},
   "source": [
    "This works very well granted we give the right tags to extract and the right website. If we want to create a recipebook by scraping all the recipes we usually prepare we can do so relatively easily.\n",
    "\n",
    "One thing that can be improved in this is to give this function the ability to search google (remove the manual urls selection)"
   ]
  },
  {
   "cell_type": "code",
   "execution_count": 92,
   "id": "913bba68-34b7-47f6-b5cd-48eaa0976382",
   "metadata": {},
   "outputs": [],
   "source": [
    "from langchain.vectorstores import Chroma\n",
    "from langchain.embeddings import OpenAIEmbeddings\n",
    "from langchain.chat_models.openai import ChatOpenAI\n",
    "from langchain.utilities import GoogleSearchAPIWrapper\n",
    "from langchain.retrievers.web_research import WebResearchRetriever"
   ]
  },
  {
   "cell_type": "code",
   "execution_count": 93,
   "id": "5dfd4e66-7fd8-4865-ada6-192e323615e8",
   "metadata": {},
   "outputs": [],
   "source": [
    "# Vectorstore\n",
    "vectorstore = Chroma(\n",
    "    embedding_function=OpenAIEmbeddings(), persist_directory=\"./chroma_db_oai\"\n",
    ")\n",
    "\n",
    "# LLM\n",
    "llm = ChatOpenAI(temperature=0)\n",
    "\n",
    "# Search\n",
    "search = GoogleSearchAPIWrapper()"
   ]
  },
  {
   "cell_type": "code",
   "execution_count": 94,
   "id": "86c43da0-16c2-4449-856e-d8bd0359a00e",
   "metadata": {},
   "outputs": [],
   "source": [
    "# Initialize\n",
    "web_research_retriever = WebResearchRetriever.from_llm(\n",
    "    vectorstore=vectorstore, llm=llm, search=search\n",
    ")"
   ]
  },
  {
   "cell_type": "code",
   "execution_count": 73,
   "id": "eec684bc-deac-43e5-a17c-9a0a43dfd41e",
   "metadata": {},
   "outputs": [
    {
     "name": "stderr",
     "output_type": "stream",
     "text": [
      "INFO:langchain.retrievers.web_research:Generating questions for Google Search ...\n",
      "INFO:langchain.retrievers.web_research:Questions for Google Search (raw): {'question': 'How do LLM Powered Autonomous Agents work?', 'text': LineList(lines=['1. What is the functioning principle of LLM Powered Autonomous Agents?\\n', '2. How do LLM Powered Autonomous Agents operate?\\n', '3. Can you explain the working mechanism of LLM Powered Autonomous Agents?'])}\n",
      "INFO:langchain.retrievers.web_research:Questions for Google Search: ['1. What is the functioning principle of LLM Powered Autonomous Agents?\\n', '2. How do LLM Powered Autonomous Agents operate?\\n', '3. Can you explain the working mechanism of LLM Powered Autonomous Agents?']\n",
      "INFO:langchain.retrievers.web_research:Searching for relevant urls...\n",
      "INFO:langchain.retrievers.web_research:Searching for relevant urls...\n",
      "INFO:langchain.retrievers.web_research:Search results: [{'title': 'Web scraping | 🦜️ Langchain', 'link': 'https://python.langchain.com/docs/use_cases/web_scraping', 'snippet': 'What is the functioning principle of LLM Powered Autonomous Agents?\\\\n\\', \\'2. ... Task decomposition can be done (1) by LLM with simple prompting like \"Steps for\\xa0...'}]\n",
      "INFO:langchain.retrievers.web_research:Searching for relevant urls...\n",
      "INFO:langchain.retrievers.web_research:Search results: [{'title': \"LLM Powered Autonomous Agents | Lil'Log\", 'link': 'https://lilianweng.github.io/posts/2023-06-23-agent/', 'snippet': 'Jun 23, 2023 ... (1) Task planning: LLM works as the brain and parses the user requests into multiple tasks. There are four attributes associated with each task:\\xa0...'}]\n",
      "INFO:langchain.retrievers.web_research:Searching for relevant urls...\n",
      "INFO:langchain.retrievers.web_research:Search results: [{'title': \"LLM Powered Autonomous Agents | Lil'Log\", 'link': 'https://lilianweng.github.io/posts/2023-06-23-agent/', 'snippet': 'Jun 23, 2023 ... An agent needs to know what they are and plan ahead. Task ... Memory can be defined as the processes used to acquire, store, retain, and\\xa0...'}]\n",
      "INFO:langchain.retrievers.web_research:New URLs to load: ['https://python.langchain.com/docs/use_cases/web_scraping', 'https://lilianweng.github.io/posts/2023-06-23-agent/']\n",
      "INFO:langchain.retrievers.web_research:Indexing new urls...\n",
      "Fetching pages: 100%|###########################| 2/2 [00:00<00:00,  9.11it/s]\n",
      "INFO:langchain.retrievers.web_research:Grabbing most relevant splits from urls...\n"
     ]
    },
    {
     "data": {
      "text/plain": [
       "{'question': 'How do LLM Powered Autonomous Agents work?',\n",
       " 'answer': \"LLM-powered autonomous agents work by using LLM as the agent's brain, complemented by several key components such as planning, memory, and tool use. In terms of planning, the agent breaks down large tasks into smaller subgoals and can reflect and refine its actions based on past experiences. Memory is divided into short-term memory, which is used for in-context learning, and long-term memory, which allows the agent to retain and recall information over extended periods. Tool use involves the agent calling external APIs for additional information. These agents have been used in various applications, including scientific discovery and generative agents simulation.\\n\",\n",
       " 'sources': 'https://python.langchain.com/docs/use_cases/web_scraping, https://lilianweng.github.io/posts/2023-06-23-agent/'}"
      ]
     },
     "execution_count": 73,
     "metadata": {},
     "output_type": "execute_result"
    }
   ],
   "source": [
    "# Run\n",
    "import logging\n",
    "\n",
    "logging.basicConfig()\n",
    "logging.getLogger(\"langchain.retrievers.web_research\").setLevel(logging.INFO)\n",
    "from langchain.chains import RetrievalQAWithSourcesChain\n",
    "\n",
    "user_input = \"How do LLM Powered Autonomous Agents work?\"\n",
    "qa_chain = RetrievalQAWithSourcesChain.from_chain_type(\n",
    "    llm, retriever=web_research_retriever\n",
    ")\n",
    "result = qa_chain({\"question\": user_input})\n",
    "result"
   ]
  },
  {
   "cell_type": "code",
   "execution_count": 95,
   "id": "61be59e9-df8c-4d59-8b94-49cdfac02415",
   "metadata": {},
   "outputs": [
    {
     "name": "stderr",
     "output_type": "stream",
     "text": [
      "INFO:langchain.retrievers.web_research:Generating questions for Google Search ...\n",
      "INFO:langchain.retrievers.web_research:Questions for Google Search (raw): {'question': \"Ecris moi la liste d'ingredients pour le Baeckeoffe Alsacian\", 'text': LineList(lines=['1. Quels sont les ingrédients nécessaires pour préparer le Baeckeoffe alsacien ?\\n', '2. Quelle est la liste des ingrédients pour réaliser le Baeckeoffe alsacien ?\\n', '3. Quels ingrédients faut-il utiliser pour faire le Baeckeoffe alsacien ?'])}\n",
      "INFO:langchain.retrievers.web_research:Questions for Google Search: ['1. Quels sont les ingrédients nécessaires pour préparer le Baeckeoffe alsacien ?\\n', '2. Quelle est la liste des ingrédients pour réaliser le Baeckeoffe alsacien ?\\n', '3. Quels ingrédients faut-il utiliser pour faire le Baeckeoffe alsacien ?']\n",
      "INFO:langchain.retrievers.web_research:Searching for relevant urls...\n",
      "INFO:langchain.retrievers.web_research:Searching for relevant urls...\n",
      "INFO:langchain.retrievers.web_research:Search results: [{'title': \"Baeckeoffe | Recettes d'Alsace\", 'link': 'https://www.recettes-alsace.fr/baeckeoffe/', 'snippet': \"1Détailler la viande · 2Préparation du poireau · 3Préparation des carottes · 4Préparation de l'ail · 5Préparation de la marinade · 6Préparation des pommes de terre.\"}]\n",
      "INFO:langchain.retrievers.web_research:Searching for relevant urls...\n",
      "INFO:langchain.retrievers.web_research:Search results: [{'title': 'Baeckeoffe : recette de Baeckeoffe', 'link': 'https://www.marmiton.org/recettes/recette_baeckeoffe_11231.aspx', 'snippet': 'Les réfrigérer 24h dans un grand plat avec les ingrédients de la marinade. Étape 2. pomme de terre. carotte. oignon. Eplucher les pommes de terre\\xa0...'}]\n",
      "INFO:langchain.retrievers.web_research:Searching for relevant urls...\n",
      "INFO:langchain.retrievers.web_research:Search results: [{'title': 'Recette de Baeckeoffe alsacien aux 3 viandes', 'link': 'https://cuisine.journaldesfemmes.fr/recette/1008160-baeckeoffe-alsacien', 'snippet': 'Découvrez ma recette de baeckeoffe alsacien. Ce plat traditionnel alsacien, est un mélange de viandes, accompagnées de pommes de terre, longuement mijotées\\xa0...'}]\n",
      "INFO:langchain.retrievers.web_research:New URLs to load: ['https://www.marmiton.org/recettes/recette_baeckeoffe_11231.aspx', 'https://www.recettes-alsace.fr/baeckeoffe/', 'https://cuisine.journaldesfemmes.fr/recette/1008160-baeckeoffe-alsacien']\n",
      "INFO:langchain.retrievers.web_research:Indexing new urls...\n",
      "Fetching pages: 100%|###########################| 3/3 [00:00<00:00,  3.79it/s]\n",
      "INFO:langchain.retrievers.web_research:Grabbing most relevant splits from urls...\n"
     ]
    },
    {
     "data": {
      "text/plain": [
       "{'question': \"Ecris moi la liste d'ingredients pour le Baeckeoffe Alsacian\",\n",
       " 'answer': 'The ingredients for Baeckeoffe Alsacian are:\\n- Echine de porc (pork shoulder) 800 g\\n- Boe',\n",
       " 'sources': ''}"
      ]
     },
     "execution_count": 95,
     "metadata": {},
     "output_type": "execute_result"
    }
   ],
   "source": [
    "user_input = \"Ecris moi la liste d'ingredients pour le Baeckeoffe Alsacian\"\n",
    "result = qa_chain({\"question\": user_input})\n",
    "result"
   ]
  },
  {
   "cell_type": "code",
   "execution_count": null,
   "id": "74682568-1408-45b8-a060-bdcf8764079b",
   "metadata": {},
   "outputs": [],
   "source": [
    "user_input = \"Ecris moi la liste d'ingredients pour le Baeckeoffe Alsacian\"\n",
    "result = qa_chain({\"question\": user_input})\n",
    "result"
   ]
  },
  {
   "cell_type": "code",
   "execution_count": 117,
   "id": "d18614f3-be74-4314-988e-88c2b34e3a69",
   "metadata": {},
   "outputs": [
    {
     "name": "stdout",
     "output_type": "stream",
     "text": [
      "\n",
      "\n",
      "\u001b[1m> Entering new AgentExecutor chain...\u001b[0m\n"
     ]
    },
    {
     "name": "stderr",
     "output_type": "stream",
     "text": [
      "INFO:langchain.retrievers.web_research:Generating questions for Google Search ...\n"
     ]
    },
    {
     "name": "stdout",
     "output_type": "stream",
     "text": [
      "\u001b[32;1m\u001b[1;3mI should search for the recipe of alsacian baeckeoffe to find the ingredients.\n",
      "Action: Search\n",
      "Action Input: Alsacian baeckeoffe recipe\u001b[0m"
     ]
    },
    {
     "name": "stderr",
     "output_type": "stream",
     "text": [
      "INFO:langchain.retrievers.web_research:Questions for Google Search (raw): {'question': 'Alsacian baeckeoffe recipe', 'text': LineList(lines=['1. \"What is the traditional recipe for Alsacian baeckeoffe?\"\\n', '2. \"How to make Alsacian baeckeoffe at home?\"\\n', '3. \"Ingredients and cooking instructions for Alsacian baeckeoffe recipe?\"'])}\n",
      "INFO:langchain.retrievers.web_research:Questions for Google Search: ['1. \"What is the traditional recipe for Alsacian baeckeoffe?\"\\n', '2. \"How to make Alsacian baeckeoffe at home?\"\\n', '3. \"Ingredients and cooking instructions for Alsacian baeckeoffe recipe?\"']\n",
      "INFO:langchain.retrievers.web_research:Searching for relevant urls...\n",
      "INFO:langchain.retrievers.web_research:Searching for relevant urls...\n",
      "INFO:langchain.retrievers.web_research:Search results: [{'title': \"Baeckeoffe- Alsatian Stew - G'day Soufflé\", 'link': 'https://gdaysouffle.com/baeckeoffe-alsatian-stew/', 'snippet': \"Feb 10, 2021 ... Baeckeoffe means 'Baker's Oven' in the Alsatian dialect and refers to the custom where housewives would assemble their meaty stew in a large\\xa0...\"}]\n",
      "INFO:langchain.retrievers.web_research:Searching for relevant urls...\n",
      "INFO:langchain.retrievers.web_research:Search results: [{'title': 'ALSATIAN BAECKEOFFE — French Cooking Academy', 'link': 'https://www.thefrenchcookingacademy.com/recipes/alsatian-baecheoffe', 'snippet': \"Feb 23, 2023 ... Layer the potatoes in the bottom of a large, oven-safe (earthenware or cast iron) pot. · To make the baker's dough, mix the flour and water\\xa0...\"}]\n",
      "INFO:langchain.retrievers.web_research:Searching for relevant urls...\n",
      "INFO:langchain.retrievers.web_research:Search results: [{'title': \"Baeckeoffe- Alsatian Stew - G'day Soufflé\", 'link': 'https://gdaysouffle.com/baeckeoffe-alsatian-stew/', 'snippet': 'Feb 10, 2021 ... Baeckeoffe- Alsatian Stew. Print Recipe. Serves: 6-8 Cooking Time: 3 hours. Ingredients. 1 lb pork shoulder; 1 lb. beef shoulder or stewing beef\\xa0...'}]\n",
      "INFO:langchain.retrievers.web_research:New URLs to load: ['https://www.thefrenchcookingacademy.com/recipes/alsatian-baecheoffe']\n",
      "INFO:langchain.retrievers.web_research:Indexing new urls...\n",
      "Fetching pages: 100%|###########################| 1/1 [00:00<00:00,  1.84it/s]\n",
      "INFO:langchain.retrievers.web_research:Grabbing most relevant splits from urls...\n"
     ]
    },
    {
     "name": "stdout",
     "output_type": "stream",
     "text": [
      "\n",
      "Observation: \u001b[36;1m\u001b[1;3m{'question': 'Alsacian baeckeoffe recipe', 'answer': 'Here is a recipe for', 'sources': ''}\u001b[0m\n",
      "Thought:\u001b[32;1m\u001b[1;3mI now know the final answer\n",
      "Final Answer: The ingredients in the Alsacian baeckeoffe are typically potatoes, onions, carrots, leeks, pork, beef, and lamb, all marinated in white wine and baked in a casserole dish.\u001b[0m\n",
      "\n",
      "\u001b[1m> Finished chain.\u001b[0m\n"
     ]
    },
    {
     "data": {
      "text/plain": [
       "'The ingredients in the Alsacian baeckeoffe are typically potatoes, onions, carrots, leeks, pork, beef, and lamb, all marinated in white wine and baked in a casserole dish.'"
      ]
     },
     "execution_count": 117,
     "metadata": {},
     "output_type": "execute_result"
    }
   ],
   "source": [
    "tools = [\n",
    "    Tool.from_function(\n",
    "        name = \"Search\",\n",
    "        func=qa_chain.__call__, \n",
    "        coroutine=qa_chain.acall,\n",
    "        description=\"useful to find the url containing the answer to a factual question\"\n",
    "    ),\n",
    "]\n",
    "memory = ConversationBufferMemory(memory_key=\"chat_history\", return_messages=True)\n",
    "llm=ChatOpenAI(temperature=0)\n",
    "agent_chain = initialize_agent(tools, llm, agent=AgentType.ZERO_SHOT_REACT_DESCRIPTION, verbose=True, memory=memory)\n",
    "agent_chain.run(input=\"What are the ingredients in the alsacian baeckeoffe?\")"
   ]
  },
  {
   "cell_type": "code",
   "execution_count": 97,
   "id": "6a57b5fb-ac41-4e73-b4d5-1f31cfbd7843",
   "metadata": {},
   "outputs": [
    {
     "name": "stdout",
     "output_type": "stream",
     "text": [
      "\n",
      "\n",
      "\u001b[1m> Entering new AgentExecutor chain...\u001b[0m\n"
     ]
    },
    {
     "name": "stderr",
     "output_type": "stream",
     "text": [
      "INFO:langchain.retrievers.web_research:Generating questions for Google Search ...\n"
     ]
    },
    {
     "name": "stdout",
     "output_type": "stream",
     "text": [
      "\u001b[32;1m\u001b[1;3m{\n",
      "    \"action\": \"Search\",\n",
      "    \"action_input\": \"baeckeoffe recipe\"\n",
      "}\u001b[0m"
     ]
    },
    {
     "name": "stderr",
     "output_type": "stream",
     "text": [
      "INFO:langchain.retrievers.web_research:Questions for Google Search (raw): {'question': 'baeckeoffe recipe', 'text': LineList(lines=['1. \"What is the traditional recipe for baeckeoffe?\"\\n', '2. \"How to make baeckeoffe at home?\"\\n', '3. \"Are there any variations of the baeckeoffe recipe?\"'])}\n",
      "INFO:langchain.retrievers.web_research:Questions for Google Search: ['1. \"What is the traditional recipe for baeckeoffe?\"\\n', '2. \"How to make baeckeoffe at home?\"\\n', '3. \"Are there any variations of the baeckeoffe recipe?\"']\n",
      "INFO:langchain.retrievers.web_research:Searching for relevant urls...\n",
      "INFO:langchain.retrievers.web_research:Searching for relevant urls...\n",
      "INFO:langchain.retrievers.web_research:Search results: [{'title': \"Baeckeoffe- Alsatian Stew - G'day Soufflé\", 'link': 'https://gdaysouffle.com/baeckeoffe-alsatian-stew/', 'snippet': 'Feb 10, 2021 ... Baeckeoffe is a very hearty stew comprising three types of meat (beef, lamb, and pork), topped with potatoes and marinated in a dry white wine,\\xa0...'}]\n",
      "INFO:langchain.retrievers.web_research:Searching for relevant urls...\n",
      "INFO:langchain.retrievers.web_research:Search results: [{'title': 'Baeckeoffe Casserole Recipe - The Spice House', 'link': 'https://www.thespicehouse.com/blogs/recipes/baeckeoffe-recipe', 'snippet': 'Recreate the flavors of Alsace, France with this hearty dish beef, lamb, pork, and vegetables. Get the recipe at The Spice House.'}]\n",
      "INFO:langchain.retrievers.web_research:Searching for relevant urls...\n",
      "INFO:langchain.retrievers.web_research:Search results: [{'title': \"Baeckeoffe- Alsatian Stew - G'day Soufflé\", 'link': 'https://gdaysouffle.com/baeckeoffe-alsatian-stew/', 'snippet': 'Feb 10, 2021 ... Baeckeoffe is a very hearty stew comprising three types of meat (beef, lamb, and pork), topped with potatoes and marinated in a dry white wine,\\xa0...'}]\n",
      "INFO:langchain.retrievers.web_research:New URLs to load: ['https://www.thespicehouse.com/blogs/recipes/baeckeoffe-recipe']\n",
      "INFO:langchain.retrievers.web_research:Indexing new urls...\n",
      "Fetching pages: 100%|###########################| 1/1 [00:00<00:00,  2.05it/s]\n",
      "INFO:langchain.retrievers.web_research:Grabbing most relevant splits from urls...\n"
     ]
    },
    {
     "name": "stdout",
     "output_type": "stream",
     "text": [
      "\n",
      "Observation: \u001b[36;1m\u001b[1;3m{'question': 'baeckeoffe recipe', 'answer': 'Baeckeoffe is a traditional Alsatian dish. It is a mix of marinated mutton, beef, and pork, with mixed vegetables, marjoram, thyme, and parsley. The dish is typically sealed with a lid of bread dough and cooked slowly in the oven. It is believed to have originated from the practice of housewives bringing their prepared casserole to the village baker to cook in his oven while they attended church services. Baeckeoffe is a hearty stew that is often served with potatoes and is marinated in a dry white wine, preferably a Riesling. It is a popular dish in the Alsace-Lorraine region of eastern France. \\n', 'sources': ''}\u001b[0m\n",
      "Thought:\u001b[32;1m\u001b[1;3m{\n",
      "    \"action\": \"Final Answer\",\n",
      "    \"action_input\": \"Baeckeoffe is a traditional Alsatian dish. It is a mix of marinated mutton, beef, and pork, with mixed vegetables, marjoram, thyme, and parsley. The dish is typically sealed with a lid of bread dough and cooked slowly in the oven. It is believed to have originated from the practice of housewives bringing their prepared casserole to the village baker to cook in his oven while they attended church services. Baeckeoffe is a hearty stew that is often served with potatoes and is marinated in a dry white wine, preferably a Riesling. It is a popular dish in the Alsace-Lorraine region of eastern France.\"\n",
      "}\u001b[0m\n",
      "\n",
      "\u001b[1m> Finished chain.\u001b[0m\n"
     ]
    },
    {
     "data": {
      "text/plain": [
       "'Baeckeoffe is a traditional Alsatian dish. It is a mix of marinated mutton, beef, and pork, with mixed vegetables, marjoram, thyme, and parsley. The dish is typically sealed with a lid of bread dough and cooked slowly in the oven. It is believed to have originated from the practice of housewives bringing their prepared casserole to the village baker to cook in his oven while they attended church services. Baeckeoffe is a hearty stew that is often served with potatoes and is marinated in a dry white wine, preferably a Riesling. It is a popular dish in the Alsace-Lorraine region of eastern France.'"
      ]
     },
     "execution_count": 97,
     "metadata": {},
     "output_type": "execute_result"
    }
   ],
   "source": [
    "agent_chain.run(input=\"Scrape a webpage that has the baeckeoffe recipe and find me related ones\")"
   ]
  }
 ],
 "metadata": {
  "kernelspec": {
   "display_name": "Python 3 (ipykernel)",
   "language": "python",
   "name": "python3"
  },
  "language_info": {
   "codemirror_mode": {
    "name": "ipython",
    "version": 3
   },
   "file_extension": ".py",
   "mimetype": "text/x-python",
   "name": "python",
   "nbconvert_exporter": "python",
   "pygments_lexer": "ipython3",
   "version": "3.10.11"
  }
 },
 "nbformat": 4,
 "nbformat_minor": 5
}
