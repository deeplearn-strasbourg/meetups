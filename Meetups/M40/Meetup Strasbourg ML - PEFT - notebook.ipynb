{
 "cells": [
  {
   "cell_type": "code",
   "execution_count": 175,
   "id": "188e597c-c472-4b6c-b73c-efc879d651bb",
   "metadata": {},
   "outputs": [],
   "source": [
    "import pandas as pd\n",
    "import os\n",
    "from glob import glob\n",
    "from functools import partial\n",
    "\n",
    "from transformers import AutoModel, AutoTokenizer, AutoModelForSequenceClassification\n",
    "from peft import LoraConfig, TaskType, AdaptionPromptConfig, get_peft_model\n",
    "from datasets import Dataset\n",
    "from transformers import TrainingArguments, EarlyStoppingCallback\n",
    "\n",
    "from torch.utils.data import DataLoader\n",
    "\n",
    "import numpy as np\n",
    "\n",
    "import evaluate"
   ]
  },
  {
   "cell_type": "markdown",
   "id": "81aafa08-e74c-4210-95b1-1e477c67fb7d",
   "metadata": {},
   "source": [
    "# Model choice"
   ]
  },
  {
   "cell_type": "code",
   "execution_count": 19,
   "id": "bcbe5e29-8e67-4442-ac7a-855f0b498d0f",
   "metadata": {},
   "outputs": [
    {
     "name": "stderr",
     "output_type": "stream",
     "text": [
      "/Users/francois.weber/Library/Caches/pypoetry/virtualenvs/try-peft-yE8UJEJ6-py3.12/lib/python3.12/site-packages/huggingface_hub/file_download.py:1132: FutureWarning: `resume_download` is deprecated and will be removed in version 1.0.0. Downloads always resume when possible. If you want to force a new download, use `force_download=True`.\n",
      "  warnings.warn(\n",
      "Some weights of BertForSequenceClassification were not initialized from the model checkpoint at google-bert/bert-base-cased and are newly initialized: ['classifier.bias', 'classifier.weight']\n",
      "You should probably TRAIN this model on a down-stream task to be able to use it for predictions and inference.\n"
     ]
    }
   ],
   "source": [
    "MODEL_CHOICE = 2\n",
    "if MODEL_CHOICE == 1:\n",
    "    model_name = \"facebook/opt-350m\"\n",
    "    model = AutoModel.from_pretrained(model_name)\n",
    "elif MODEL_CHOICE == 2:\n",
    "    model_name = \"google-bert/bert-base-cased\"\n",
    "    model = AutoModelForSequenceClassification.from_pretrained(model_name, num_labels=2)\n",
    "    tokenizer = AutoTokenizer.from_pretrained(model_name)\n",
    "\n",
    "model_dir = model_name.replace(\"/\", \"-\")"
   ]
  },
  {
   "cell_type": "code",
   "execution_count": 8,
   "id": "d91d0eec-3e28-49b9-b365-aad288ee4d3f",
   "metadata": {
    "scrolled": true
   },
   "outputs": [
    {
     "name": "stdout",
     "output_type": "stream",
     "text": [
      "trainable params: 591,362 || all params: 108,903,172 || trainable%: 0.5430163227936097\n"
     ]
    }
   ],
   "source": [
    "lora_model = get_peft_model(model, lora_config)\n",
    "lora_model.print_trainable_parameters()"
   ]
  },
  {
   "cell_type": "markdown",
   "id": "f802f6f6-e226-495a-8a92-a1932e0b06f8",
   "metadata": {},
   "source": [
    "# load data"
   ]
  },
  {
   "cell_type": "code",
   "execution_count": 103,
   "id": "c7c67099-6e2d-4d9c-8182-dab8150f5b26",
   "metadata": {},
   "outputs": [],
   "source": [
    "df = pd.concat(\n",
    "    [\n",
    "        pd.DataFrame(data={\"text\": [open(f).readline() for f in glob(\"/Users/francois.weber/datasets/aclImdb/train/neg/*.txt\")]}).assign(label=0),\n",
    "        pd.DataFrame(data={\"text\": [open(f).readline() for f in glob(\"/Users/francois.weber/datasets/aclImdb/train/pos/*.txt\")]}).assign(label=1),\n",
    "    ]\n",
    ").sample(frac=1.0).reset_index(drop=True)"
   ]
  },
  {
   "cell_type": "code",
   "execution_count": 214,
   "id": "e3bba193-2b24-4e91-a65c-cf11c0d89b51",
   "metadata": {},
   "outputs": [
    {
     "data": {
      "text/html": [
       "<div>\n",
       "<style scoped>\n",
       "    .dataframe tbody tr th:only-of-type {\n",
       "        vertical-align: middle;\n",
       "    }\n",
       "\n",
       "    .dataframe tbody tr th {\n",
       "        vertical-align: top;\n",
       "    }\n",
       "\n",
       "    .dataframe thead th {\n",
       "        text-align: right;\n",
       "    }\n",
       "</style>\n",
       "<table border=\"1\" class=\"dataframe\">\n",
       "  <thead>\n",
       "    <tr style=\"text-align: right;\">\n",
       "      <th></th>\n",
       "      <th>text</th>\n",
       "      <th>label</th>\n",
       "    </tr>\n",
       "  </thead>\n",
       "  <tbody>\n",
       "    <tr>\n",
       "      <th>6868</th>\n",
       "      <td>Many reviews I've read reveals that most peopl...</td>\n",
       "      <td>1</td>\n",
       "    </tr>\n",
       "    <tr>\n",
       "      <th>24016</th>\n",
       "      <td>Former brat pack actor and all round pretty bo...</td>\n",
       "      <td>0</td>\n",
       "    </tr>\n",
       "    <tr>\n",
       "      <th>9668</th>\n",
       "      <td>Once upon a time Hollywood produced live-actio...</td>\n",
       "      <td>1</td>\n",
       "    </tr>\n",
       "  </tbody>\n",
       "</table>\n",
       "</div>"
      ],
      "text/plain": [
       "                                                    text  label\n",
       "6868   Many reviews I've read reveals that most peopl...      1\n",
       "24016  Former brat pack actor and all round pretty bo...      0\n",
       "9668   Once upon a time Hollywood produced live-actio...      1"
      ]
     },
     "execution_count": 214,
     "metadata": {},
     "output_type": "execute_result"
    }
   ],
   "source": [
    "df.sample(3)"
   ]
  },
  {
   "cell_type": "markdown",
   "id": "5a2765a3-c41b-4568-b344-ef9970438e1e",
   "metadata": {},
   "source": [
    "# Pick a model"
   ]
  },
  {
   "cell_type": "code",
   "execution_count": 124,
   "id": "62f80254-ed99-4512-ad70-85a48f14f17f",
   "metadata": {},
   "outputs": [],
   "source": [
    "MODEL_NAME = \"google-bert/bert-base-cased\""
   ]
  },
  {
   "cell_type": "code",
   "execution_count": null,
   "id": "3e66755b-a165-4001-8d95-bb3ba75a33d4",
   "metadata": {},
   "outputs": [],
   "source": [
    "tokenizer = AutoTokenizer.from_pretrained(MODEL_NAME)\n",
    "model = AutoModelForSequenceClassification.from_pretrained(MODEL_NAME, num_labels=2)"
   ]
  },
  {
   "cell_type": "markdown",
   "id": "1d9f9428-821f-48a0-a3d9-1e27ac9580bc",
   "metadata": {},
   "source": [
    "# Tools"
   ]
  },
  {
   "cell_type": "code",
   "execution_count": 126,
   "id": "0339cb0c-c71e-4443-8210-dd908d436149",
   "metadata": {},
   "outputs": [],
   "source": [
    "def tokenize_function(examples):\n",
    "    return tokenizer(examples[\"text\"], padding=\"max_length\", truncation=True)"
   ]
  },
  {
   "cell_type": "code",
   "execution_count": 151,
   "id": "93d88fda-ad04-4514-b6dd-53979bd856bd",
   "metadata": {},
   "outputs": [],
   "source": [
    "metrics = {\n",
    "    \"precision\": evaluate.load(\"precision\"),\n",
    "    \"recall\": evaluate.load(\"recall\"),\n",
    "    \"f1\": evaluate.load(\"f1\"),\n",
    "}"
   ]
  },
  {
   "cell_type": "code",
   "execution_count": 164,
   "id": "25327e70-3c78-47cc-b904-8432876eb63b",
   "metadata": {},
   "outputs": [],
   "source": [
    "def compute_metrics(eval_pred):\n",
    "    logits, labels = eval_pred\n",
    "    predictions = np.argmax(logits, axis=-1)\n",
    "    return {name: metric.compute(predictions=predictions, references=labels) for name, metric in metrics.items()}"
   ]
  },
  {
   "cell_type": "markdown",
   "id": "9ecbb41b-91e7-4c2d-844f-3204a9165179",
   "metadata": {},
   "source": [
    "# Prepare dataset"
   ]
  },
  {
   "cell_type": "code",
   "execution_count": null,
   "id": "24086ba2-4e38-4326-a70d-0b27e7b03d3d",
   "metadata": {},
   "outputs": [],
   "source": [
    "dataset = Dataset.from_pandas(df).train_test_split(0.8)"
   ]
  },
  {
   "cell_type": "code",
   "execution_count": 127,
   "id": "32cdda3b-4698-49c4-b4ea-ad39a2a2729b",
   "metadata": {},
   "outputs": [
    {
     "name": "stderr",
     "output_type": "stream",
     "text": [
      "Map: 100%|████████████████████████████████████████████████████████████████████████| 5000/5000 [00:00<00:00, 7556.37 examples/s]\n",
      "Map: 100%|██████████████████████████████████████████████████████████████████████| 20000/20000 [00:02<00:00, 7634.07 examples/s]\n"
     ]
    }
   ],
   "source": [
    "tokenized_datasets = dataset.map(tokenize_function, batched=True)"
   ]
  },
  {
   "cell_type": "code",
   "execution_count": 128,
   "id": "b3387208-a882-494b-9130-1248a7c131a8",
   "metadata": {},
   "outputs": [],
   "source": [
    "small_train_dataset = tokenized_datasets[\"train\"].shuffle(seed=42).select(range(100))\n",
    "small_eval_dataset = tokenized_datasets[\"test\"].shuffle(seed=42).select(range(100))"
   ]
  },
  {
   "cell_type": "markdown",
   "id": "9810620b-42ce-4cce-b74b-96e227fd3a50",
   "metadata": {},
   "source": [
    "# Models fine-tuning !"
   ]
  },
  {
   "cell_type": "code",
   "execution_count": 176,
   "id": "8bfd8415-5bfb-4e60-b9c3-2688186ee53d",
   "metadata": {},
   "outputs": [],
   "source": [
    "earlystop_cb = EarlyStoppingCallback(early_stopping_patience=3)"
   ]
  },
  {
   "cell_type": "markdown",
   "id": "973d5e80-970f-42c6-9a07-34e7d1bf8442",
   "metadata": {},
   "source": [
    "## Baseline with a default FT"
   ]
  },
  {
   "cell_type": "code",
   "execution_count": 181,
   "id": "e57b5310-9a8e-43a9-a597-8d54f2fb3692",
   "metadata": {},
   "outputs": [],
   "source": [
    "training_args = TrainingArguments(\n",
    "    output_dir=MODEL_NAME.replace(\"/\", \"-\") + \"-RAW\",\n",
    "    num_train_epochs=5,\n",
    "    evaluation_strategy=\"epoch\",\n",
    "    save_strategy=\"epoch\",\n",
    "    learning_rate=1e-3, \n",
    "    load_best_model_at_end=True\n",
    ")\n",
    "\n",
    "trainer = Trainer(\n",
    "    model=model,\n",
    "    args=training_args,\n",
    "    train_dataset=tokenized_datasets[\"train\"],\n",
    "    eval_dataset=tokenized_datasets[\"test\"],\n",
    "    compute_metrics=compute_metrics,\n",
    ")"
   ]
  },
  {
   "cell_type": "code",
   "execution_count": 182,
   "id": "71340cea-47a2-4182-aee5-30c62d81ccbc",
   "metadata": {},
   "outputs": [
    {
     "data": {
      "text/html": [
       "\n",
       "    <div>\n",
       "      \n",
       "      <progress value='2500' max='3125' style='width:300px; height:20px; vertical-align: middle;'></progress>\n",
       "      [2500/3125 1:37:39 < 24:25, 0.43 it/s, Epoch 4/5]\n",
       "    </div>\n",
       "    <table border=\"1\" class=\"dataframe\">\n",
       "  <thead>\n",
       " <tr style=\"text-align: left;\">\n",
       "      <th>Epoch</th>\n",
       "      <th>Training Loss</th>\n",
       "      <th>Validation Loss</th>\n",
       "      <th>Accuracy</th>\n",
       "      <th>Precision</th>\n",
       "      <th>Recall</th>\n",
       "      <th>F1</th>\n",
       "    </tr>\n",
       "  </thead>\n",
       "  <tbody>\n",
       "    <tr>\n",
       "      <td>1</td>\n",
       "      <td>0.465300</td>\n",
       "      <td>0.337309</td>\n",
       "      <td>{'accuracy': 0.86285}</td>\n",
       "      <td>{'precision': 0.8616798162388895}</td>\n",
       "      <td>{'recall': 0.8640096134588424}</td>\n",
       "      <td>{'f1': 0.8628431421571079}</td>\n",
       "    </tr>\n",
       "    <tr>\n",
       "      <td>2</td>\n",
       "      <td>0.405600</td>\n",
       "      <td>0.381923</td>\n",
       "      <td>{'accuracy': 0.86515}</td>\n",
       "      <td>{'precision': 0.8617369727047146}</td>\n",
       "      <td>{'recall': 0.8694171840576808}</td>\n",
       "      <td>{'f1': 0.8655600418722895}</td>\n",
       "    </tr>\n",
       "    <tr>\n",
       "      <td>3</td>\n",
       "      <td>0.379500</td>\n",
       "      <td>0.450804</td>\n",
       "      <td>{'accuracy': 0.88085}</td>\n",
       "      <td>{'precision': 0.889458047331216}</td>\n",
       "      <td>{'recall': 0.8694171840576808}</td>\n",
       "      <td>{'f1': 0.8793234415354231}</td>\n",
       "    </tr>\n",
       "    <tr>\n",
       "      <td>4</td>\n",
       "      <td>0.277600</td>\n",
       "      <td>0.460298</td>\n",
       "      <td>{'accuracy': 0.88705}</td>\n",
       "      <td>{'precision': 0.9077572559366754}</td>\n",
       "      <td>{'recall': 0.8613058281594232}</td>\n",
       "      <td>{'f1': 0.883921689532912}</td>\n",
       "    </tr>\n",
       "  </tbody>\n",
       "</table><p>"
      ],
      "text/plain": [
       "<IPython.core.display.HTML object>"
      ]
     },
     "metadata": {},
     "output_type": "display_data"
    },
    {
     "data": {
      "text/plain": [
       "TrainOutput(global_step=2500, training_loss=0.3722097229003906, metrics={'train_runtime': 5860.0452, 'train_samples_per_second': 4.266, 'train_steps_per_second': 0.533, 'total_flos': 5266845450240000.0, 'train_loss': 0.3722097229003906, 'epoch': 4.0})"
      ]
     },
     "execution_count": 182,
     "metadata": {},
     "output_type": "execute_result"
    }
   ],
   "source": [
    "trainer.train()"
   ]
  },
  {
   "cell_type": "code",
   "execution_count": 190,
   "id": "684e25ac-51c5-4d93-a2bf-f05469aa9278",
   "metadata": {},
   "outputs": [],
   "source": [
    "model.save_pretrained(\"./raw\")"
   ]
  },
  {
   "cell_type": "markdown",
   "id": "237fcdd8-8b22-44ea-999a-54007ee5fe2c",
   "metadata": {},
   "source": [
    "## LoRA"
   ]
  },
  {
   "cell_type": "code",
   "execution_count": 197,
   "id": "21b056d1-f36c-412e-8aa1-20bf070bf060",
   "metadata": {},
   "outputs": [],
   "source": [
    "FT_TYPE = \"LORA\""
   ]
  },
  {
   "cell_type": "markdown",
   "id": "990e1216-f9d3-4c95-96ae-842c8ce0a9da",
   "metadata": {},
   "source": [
    "### Tiny LoRA r=2"
   ]
  },
  {
   "cell_type": "code",
   "execution_count": 198,
   "id": "6248030b-35be-46b7-bde0-0757f4df6335",
   "metadata": {},
   "outputs": [],
   "source": [
    "r = 2"
   ]
  },
  {
   "cell_type": "code",
   "execution_count": 199,
   "id": "cdf359fa-c822-4d5d-8f1d-70c5d3a8359d",
   "metadata": {},
   "outputs": [],
   "source": [
    "lora_config = LoraConfig(\n",
    "    r=r,\n",
    "    target_modules=[\"query\", \"value\"],\n",
    "    task_type=TaskType.SEQ_CLS,\n",
    "    lora_alpha=32,\n",
    "    lora_dropout=0.05\n",
    ")"
   ]
  },
  {
   "cell_type": "code",
   "execution_count": 200,
   "id": "4d41be7d-e6dc-458c-a94e-245be8dd7e4b",
   "metadata": {},
   "outputs": [
    {
     "name": "stderr",
     "output_type": "stream",
     "text": [
      "/Users/francois.weber/Library/Caches/pypoetry/virtualenvs/try-peft-yE8UJEJ6-py3.12/lib/python3.12/site-packages/huggingface_hub/file_download.py:1132: FutureWarning: `resume_download` is deprecated and will be removed in version 1.0.0. Downloads always resume when possible. If you want to force a new download, use `force_download=True`.\n",
      "  warnings.warn(\n",
      "Some weights of BertForSequenceClassification were not initialized from the model checkpoint at google-bert/bert-base-cased and are newly initialized: ['classifier.bias', 'classifier.weight']\n",
      "You should probably TRAIN this model on a down-stream task to be able to use it for predictions and inference.\n"
     ]
    },
    {
     "name": "stdout",
     "output_type": "stream",
     "text": [
      "trainable params: 75,266 || all params: 108,387,076 || trainable%: 0.0694418585477848\n"
     ]
    }
   ],
   "source": [
    "lora_model = get_peft_model(AutoModelForSequenceClassification.from_pretrained(MODEL_NAME, num_labels=2), lora_config)\n",
    "lora_model.print_trainable_parameters()"
   ]
  },
  {
   "cell_type": "code",
   "execution_count": 201,
   "id": "b001adc7-b5f5-49bc-b2c4-c82281dbf9b9",
   "metadata": {},
   "outputs": [],
   "source": [
    "training_args = TrainingArguments(\n",
    "    output_dir=MODEL_NAME.replace(\"/\", \"-\") + \"-\" + FT_TYPE,\n",
    "    num_train_epochs=5,\n",
    "    evaluation_strategy=\"epoch\",\n",
    "    save_strategy=\"epoch\",\n",
    "    learning_rate=1e-3, \n",
    "    load_best_model_at_end=True\n",
    ")\n",
    "\n",
    "trainer = Trainer(\n",
    "    model=lora_model,\n",
    "    args=training_args,\n",
    "    train_dataset=tokenized_datasets[\"train\"],\n",
    "    eval_dataset=tokenized_datasets[\"test\"],\n",
    "    compute_metrics=compute_metrics,\n",
    ")"
   ]
  },
  {
   "cell_type": "code",
   "execution_count": 202,
   "id": "53fa849f-f4b4-4268-86fc-0747e564a420",
   "metadata": {},
   "outputs": [
    {
     "data": {
      "text/html": [
       "\n",
       "    <div>\n",
       "      \n",
       "      <progress value='2500' max='3125' style='width:300px; height:20px; vertical-align: middle;'></progress>\n",
       "      [2500/3125 1:35:25 < 23:52, 0.44 it/s, Epoch 4/5]\n",
       "    </div>\n",
       "    <table border=\"1\" class=\"dataframe\">\n",
       "  <thead>\n",
       " <tr style=\"text-align: left;\">\n",
       "      <th>Epoch</th>\n",
       "      <th>Training Loss</th>\n",
       "      <th>Validation Loss</th>\n",
       "      <th>Accuracy</th>\n",
       "      <th>Precision</th>\n",
       "      <th>Recall</th>\n",
       "      <th>F1</th>\n",
       "    </tr>\n",
       "  </thead>\n",
       "  <tbody>\n",
       "    <tr>\n",
       "      <td>1</td>\n",
       "      <td>0.437700</td>\n",
       "      <td>0.320221</td>\n",
       "      <td>{'accuracy': 0.8665}</td>\n",
       "      <td>{'precision': 0.8905616058082426}</td>\n",
       "      <td>{'recall': 0.8352693771279792}</td>\n",
       "      <td>{'f1': 0.8620297643654402}</td>\n",
       "    </tr>\n",
       "    <tr>\n",
       "      <td>2</td>\n",
       "      <td>0.362100</td>\n",
       "      <td>0.330836</td>\n",
       "      <td>{'accuracy': 0.88155}</td>\n",
       "      <td>{'precision': 0.8979208024239891}</td>\n",
       "      <td>{'recall': 0.8606048467854996}</td>\n",
       "      <td>{'f1': 0.8788669018765659}</td>\n",
       "    </tr>\n",
       "    <tr>\n",
       "      <td>3</td>\n",
       "      <td>0.356200</td>\n",
       "      <td>0.407664</td>\n",
       "      <td>{'accuracy': 0.8848}</td>\n",
       "      <td>{'precision': 0.9052542730533868}</td>\n",
       "      <td>{'recall': 0.8592028840376527}</td>\n",
       "      <td>{'f1': 0.8816276202219482}</td>\n",
       "    </tr>\n",
       "    <tr>\n",
       "      <td>4</td>\n",
       "      <td>0.263900</td>\n",
       "      <td>0.468798</td>\n",
       "      <td>{'accuracy': 0.8924}</td>\n",
       "      <td>{'precision': 0.9038977108682202}</td>\n",
       "      <td>{'recall': 0.8778289605447627}</td>\n",
       "      <td>{'f1': 0.8906726275147328}</td>\n",
       "    </tr>\n",
       "  </tbody>\n",
       "</table><p>"
      ],
      "text/plain": [
       "<IPython.core.display.HTML object>"
      ]
     },
     "metadata": {},
     "output_type": "display_data"
    },
    {
     "name": "stderr",
     "output_type": "stream",
     "text": [
      "/Users/francois.weber/Library/Caches/pypoetry/virtualenvs/try-peft-yE8UJEJ6-py3.12/lib/python3.12/site-packages/huggingface_hub/file_download.py:1132: FutureWarning: `resume_download` is deprecated and will be removed in version 1.0.0. Downloads always resume when possible. If you want to force a new download, use `force_download=True`.\n",
      "  warnings.warn(\n",
      "/Users/francois.weber/Library/Caches/pypoetry/virtualenvs/try-peft-yE8UJEJ6-py3.12/lib/python3.12/site-packages/huggingface_hub/file_download.py:1132: FutureWarning: `resume_download` is deprecated and will be removed in version 1.0.0. Downloads always resume when possible. If you want to force a new download, use `force_download=True`.\n",
      "  warnings.warn(\n",
      "/Users/francois.weber/Library/Caches/pypoetry/virtualenvs/try-peft-yE8UJEJ6-py3.12/lib/python3.12/site-packages/huggingface_hub/file_download.py:1132: FutureWarning: `resume_download` is deprecated and will be removed in version 1.0.0. Downloads always resume when possible. If you want to force a new download, use `force_download=True`.\n",
      "  warnings.warn(\n",
      "/Users/francois.weber/Library/Caches/pypoetry/virtualenvs/try-peft-yE8UJEJ6-py3.12/lib/python3.12/site-packages/huggingface_hub/file_download.py:1132: FutureWarning: `resume_download` is deprecated and will be removed in version 1.0.0. Downloads always resume when possible. If you want to force a new download, use `force_download=True`.\n",
      "  warnings.warn(\n"
     ]
    },
    {
     "data": {
      "text/plain": [
       "TrainOutput(global_step=2500, training_loss=0.3470293090820312, metrics={'train_runtime': 5727.1155, 'train_samples_per_second': 4.365, 'train_steps_per_second': 0.546, 'total_flos': 5266845450240000.0, 'train_loss': 0.3470293090820312, 'epoch': 4.0})"
      ]
     },
     "execution_count": 202,
     "metadata": {},
     "output_type": "execute_result"
    }
   ],
   "source": [
    "trainer.train()"
   ]
  },
  {
   "cell_type": "code",
   "execution_count": 203,
   "id": "c3ecd9ea-7980-4c6c-9584-31ffcbef6765",
   "metadata": {},
   "outputs": [
    {
     "name": "stderr",
     "output_type": "stream",
     "text": [
      "/Users/francois.weber/Library/Caches/pypoetry/virtualenvs/try-peft-yE8UJEJ6-py3.12/lib/python3.12/site-packages/huggingface_hub/file_download.py:1132: FutureWarning: `resume_download` is deprecated and will be removed in version 1.0.0. Downloads always resume when possible. If you want to force a new download, use `force_download=True`.\n",
      "  warnings.warn(\n"
     ]
    }
   ],
   "source": [
    "lora_model.save_pretrained(f\"./lora-r={r}\")"
   ]
  },
  {
   "cell_type": "markdown",
   "id": "5109918f-1a33-482d-aec7-5da383bf4b5c",
   "metadata": {},
   "source": [
    "### Regular LoRA r=16"
   ]
  },
  {
   "cell_type": "code",
   "execution_count": 208,
   "id": "ed26cc45-f2e5-4dbb-985f-2a7505ecc1be",
   "metadata": {},
   "outputs": [],
   "source": [
    "r = 16"
   ]
  },
  {
   "cell_type": "code",
   "execution_count": 209,
   "id": "940b6593-0c71-4dd9-a5af-1038ffa677f2",
   "metadata": {},
   "outputs": [],
   "source": [
    "lora_config = LoraConfig(\n",
    "    r=r,\n",
    "    target_modules=[\"query\", \"value\"],\n",
    "    task_type=TaskType.SEQ_CLS,\n",
    "    lora_alpha=32,\n",
    "    lora_dropout=0.05\n",
    ")"
   ]
  },
  {
   "cell_type": "code",
   "execution_count": 210,
   "id": "ca7e4c72-b25c-45ec-ab32-ae0ead9e50e7",
   "metadata": {},
   "outputs": [
    {
     "name": "stderr",
     "output_type": "stream",
     "text": [
      "Some weights of BertForSequenceClassification were not initialized from the model checkpoint at google-bert/bert-base-cased and are newly initialized: ['classifier.bias', 'classifier.weight']\n",
      "You should probably TRAIN this model on a down-stream task to be able to use it for predictions and inference.\n"
     ]
    },
    {
     "name": "stdout",
     "output_type": "stream",
     "text": [
      "trainable params: 591,362 || all params: 108,903,172 || trainable%: 0.5430163227936097\n"
     ]
    }
   ],
   "source": [
    "lora_model = get_peft_model(AutoModelForSequenceClassification.from_pretrained(MODEL_NAME, num_labels=2), lora_config)\n",
    "lora_model.print_trainable_parameters()"
   ]
  },
  {
   "cell_type": "code",
   "execution_count": 211,
   "id": "cd6816eb-cce3-4a1b-bf4c-9786a21927d1",
   "metadata": {},
   "outputs": [],
   "source": [
    "training_args = TrainingArguments(\n",
    "    output_dir=MODEL_NAME.replace(\"/\", \"-\") + \"-\" + FT_TYPE,\n",
    "    num_train_epochs=5,\n",
    "    evaluation_strategy=\"epoch\",\n",
    "    save_strategy=\"epoch\",\n",
    "    learning_rate=1e-3, \n",
    "    load_best_model_at_end=True\n",
    ")\n",
    "\n",
    "trainer = Trainer(\n",
    "    model=lora_model,\n",
    "    args=training_args,\n",
    "    train_dataset=tokenized_datasets[\"train\"],\n",
    "    eval_dataset=tokenized_datasets[\"test\"],\n",
    "    compute_metrics=compute_metrics,\n",
    ")"
   ]
  },
  {
   "cell_type": "code",
   "execution_count": 212,
   "id": "41020401-f777-4a8c-af7a-f1b558ab8790",
   "metadata": {},
   "outputs": [
    {
     "data": {
      "text/html": [
       "\n",
       "    <div>\n",
       "      \n",
       "      <progress value='2500' max='3125' style='width:300px; height:20px; vertical-align: middle;'></progress>\n",
       "      [2500/3125 1:38:00 < 24:31, 0.42 it/s, Epoch 4/5]\n",
       "    </div>\n",
       "    <table border=\"1\" class=\"dataframe\">\n",
       "  <thead>\n",
       " <tr style=\"text-align: left;\">\n",
       "      <th>Epoch</th>\n",
       "      <th>Training Loss</th>\n",
       "      <th>Validation Loss</th>\n",
       "      <th>Accuracy</th>\n",
       "      <th>Precision</th>\n",
       "      <th>Recall</th>\n",
       "      <th>F1</th>\n",
       "    </tr>\n",
       "  </thead>\n",
       "  <tbody>\n",
       "    <tr>\n",
       "      <td>1</td>\n",
       "      <td>0.465300</td>\n",
       "      <td>0.277267</td>\n",
       "      <td>{'accuracy': 0.88945}</td>\n",
       "      <td>{'precision': 0.8895680929952902}</td>\n",
       "      <td>{'recall': 0.8889445223312638}</td>\n",
       "      <td>{'f1': 0.8892561983471075}</td>\n",
       "    </tr>\n",
       "    <tr>\n",
       "      <td>2</td>\n",
       "      <td>0.332300</td>\n",
       "      <td>0.359461</td>\n",
       "      <td>{'accuracy': 0.88155}</td>\n",
       "      <td>{'precision': 0.8446918273146891}</td>\n",
       "      <td>{'recall': 0.9346084518325656}</td>\n",
       "      <td>{'f1': 0.887378179225101}</td>\n",
       "    </tr>\n",
       "    <tr>\n",
       "      <td>3</td>\n",
       "      <td>0.281900</td>\n",
       "      <td>0.359880</td>\n",
       "      <td>{'accuracy': 0.8828}</td>\n",
       "      <td>{'precision': 0.9313614811469858}</td>\n",
       "      <td>{'recall': 0.8261566192669738}</td>\n",
       "      <td>{'f1': 0.8756102738272129}</td>\n",
       "    </tr>\n",
       "    <tr>\n",
       "      <td>4</td>\n",
       "      <td>0.154200</td>\n",
       "      <td>0.476943</td>\n",
       "      <td>{'accuracy': 0.8938}</td>\n",
       "      <td>{'precision': 0.917569577225409}</td>\n",
       "      <td>{'recall': 0.8650110154215902}</td>\n",
       "      <td>{'f1': 0.8905154639175258}</td>\n",
       "    </tr>\n",
       "  </tbody>\n",
       "</table><p>"
      ],
      "text/plain": [
       "<IPython.core.display.HTML object>"
      ]
     },
     "metadata": {},
     "output_type": "display_data"
    },
    {
     "name": "stderr",
     "output_type": "stream",
     "text": [
      "/Users/francois.weber/Library/Caches/pypoetry/virtualenvs/try-peft-yE8UJEJ6-py3.12/lib/python3.12/site-packages/huggingface_hub/file_download.py:1132: FutureWarning: `resume_download` is deprecated and will be removed in version 1.0.0. Downloads always resume when possible. If you want to force a new download, use `force_download=True`.\n",
      "  warnings.warn(\n",
      "/Users/francois.weber/Library/Caches/pypoetry/virtualenvs/try-peft-yE8UJEJ6-py3.12/lib/python3.12/site-packages/huggingface_hub/file_download.py:1132: FutureWarning: `resume_download` is deprecated and will be removed in version 1.0.0. Downloads always resume when possible. If you want to force a new download, use `force_download=True`.\n",
      "  warnings.warn(\n",
      "/Users/francois.weber/Library/Caches/pypoetry/virtualenvs/try-peft-yE8UJEJ6-py3.12/lib/python3.12/site-packages/huggingface_hub/file_download.py:1132: FutureWarning: `resume_download` is deprecated and will be removed in version 1.0.0. Downloads always resume when possible. If you want to force a new download, use `force_download=True`.\n",
      "  warnings.warn(\n",
      "/Users/francois.weber/Library/Caches/pypoetry/virtualenvs/try-peft-yE8UJEJ6-py3.12/lib/python3.12/site-packages/huggingface_hub/file_download.py:1132: FutureWarning: `resume_download` is deprecated and will be removed in version 1.0.0. Downloads always resume when possible. If you want to force a new download, use `force_download=True`.\n",
      "  warnings.warn(\n"
     ]
    },
    {
     "data": {
      "text/plain": [
       "TrainOutput(global_step=2500, training_loss=0.2889537841796875, metrics={'train_runtime': 5881.2423, 'train_samples_per_second': 4.251, 'train_steps_per_second': 0.531, 'total_flos': 5298554388480000.0, 'train_loss': 0.2889537841796875, 'epoch': 4.0})"
      ]
     },
     "execution_count": 212,
     "metadata": {},
     "output_type": "execute_result"
    }
   ],
   "source": [
    "trainer.train()"
   ]
  },
  {
   "cell_type": "code",
   "execution_count": 213,
   "id": "cf7fe084-46be-4b9b-b3ee-0087e6225c20",
   "metadata": {},
   "outputs": [
    {
     "name": "stderr",
     "output_type": "stream",
     "text": [
      "/Users/francois.weber/Library/Caches/pypoetry/virtualenvs/try-peft-yE8UJEJ6-py3.12/lib/python3.12/site-packages/huggingface_hub/file_download.py:1132: FutureWarning: `resume_download` is deprecated and will be removed in version 1.0.0. Downloads always resume when possible. If you want to force a new download, use `force_download=True`.\n",
      "  warnings.warn(\n"
     ]
    }
   ],
   "source": [
    "lora_model.save_pretrained(f\"./lora-r={r}\")"
   ]
  },
  {
   "cell_type": "code",
   "execution_count": null,
   "id": "acb03ea4-a9b2-4141-b88a-b78ad208060d",
   "metadata": {},
   "outputs": [],
   "source": []
  },
  {
   "cell_type": "markdown",
   "id": "3b9c8e97-703d-4157-a5e2-ac81a6969895",
   "metadata": {},
   "source": [
    "## Prompt Tuning"
   ]
  },
  {
   "cell_type": "code",
   "execution_count": 167,
   "id": "d510681c-2d55-4061-b555-1b26390950c7",
   "metadata": {},
   "outputs": [],
   "source": [
    "FT_TYPE = \"LORA\""
   ]
  }
 ],
 "metadata": {
  "kernelspec": {
   "display_name": "try-peft",
   "language": "python",
   "name": "try-peft"
  },
  "language_info": {
   "codemirror_mode": {
    "name": "ipython",
    "version": 3
   },
   "file_extension": ".py",
   "mimetype": "text/x-python",
   "name": "python",
   "nbconvert_exporter": "python",
   "pygments_lexer": "ipython3",
   "version": "3.12.3"
  }
 },
 "nbformat": 4,
 "nbformat_minor": 5
}
